{
  "cells": [
    {
      "cell_type": "code",
      "execution_count": 56,
      "metadata": {
        "gather": {
          "logged": 1676307673747
        }
      },
      "outputs": [],
      "source": [
        "import os\n",
        "import json\n",
        "import subprocess\n",
        "import sys\n",
        "\n",
        "from azure.ai.ml import MLClient, Input, Output, command\n",
        "from azure.ai.ml.dsl import pipeline\n",
        "\n",
        "sys.path.append(os.path.abspath('/'.join(str.split(os.getcwd(), '/')[:9]) + '/code/'))\n",
        "from Projects.Utils.src.adls_interaction import get_client_credential"
      ]
    },
    {
      "cell_type": "code",
      "execution_count": 57,
      "metadata": {
        "gather": {
          "logged": 1676307673949
        }
      },
      "outputs": [],
      "source": [
        "with open('/'.join(str.split(os.getcwd(), '/')[:9]) + '/code/Projects/Utils/src/Config/aml_env_vars.json', 'r') as f:\n",
        "    env_vars = json.load(f)\n",
        "\n",
        "# subscription\n",
        "SUBSCRIPTION_ID = env_vars[\"subscription_id\"]\n",
        "RESOURCE_GROUP = env_vars[\"resource_group\"]\n",
        "WORKSPACE_NAME = env_vars[\"workspace_name\"]\n",
        "client_credential = get_client_credential()\n",
        "\n",
        "# data\n",
        "PROD_DATASTORE_PATH = \"Datastore Path\" # i.e \"azureml://datastores/ds_ib_datalake_prod/paths/\"\n",
        "\n",
        "# pipeline parameters\n",
        "CPU_CLUSTER = \"ADVTECH-SM-CPU-CLU\"\n",
        "ENV = \"wb-ib-ds-basic-cpu:4\""
      ]
    },
    {
      "cell_type": "code",
      "execution_count": 58,
      "metadata": {
        "gather": {
          "logged": 1676307674181
        }
      },
      "outputs": [],
      "source": [
        "# get a handle to the workspace\n",
        "ml_client = MLClient(\n",
        "    credential=client_credential,\n",
        "    subscription_id=SUBSCRIPTION_ID,\n",
        "    resource_group_name=RESOURCE_GROUP,\n",
        "    workspace_name=WORKSPACE_NAME,\n",
        ")"
      ]
    },
    {
      "cell_type": "code",
      "execution_count": null,
      "metadata": {},
      "outputs": [],
      "source": [
        "#  Regular Component Command Example\n",
        "https://dev.azure.com/WB-IB/wb-ib-technology-wiki/_wiki/wikis/wb-ib-technology-wiki.wiki/298/Orchestration-Scripts-and-Pipelines?anchor=**creating-a-component-command-for-a-pipeline**"
      ]
    },
    {
      "cell_type": "code",
      "execution_count": null,
      "metadata": {},
      "outputs": [],
      "source": [
        "#  Inference Component Command Example\n",
        "https://dev.azure.com/WB-IB/wb-ib-technology-wiki/_wiki/wikis/wb-ib-technology-wiki.wiki/298/Orchestration-Scripts-and-Pipelines?anchor=**creating-a-component-command-for-a-pipeline**"
      ]
    },
    {
      "cell_type": "code",
      "execution_count": null,
      "metadata": {},
      "outputs": [],
      "source": [
        "#pipeline Build Example\n",
        "https://dev.azure.com/WB-IB/wb-ib-technology-wiki/_wiki/wikis/wb-ib-technology-wiki.wiki/298/Orchestration-Scripts-and-Pipelines?anchor=**creating-the-pipeline-function**"
      ]
    },
    {
      "cell_type": "code",
      "execution_count": null,
      "metadata": {},
      "outputs": [],
      "source": [
        "#Inference pipeline Build Example\n",
        "https://dev.azure.com/WB-IB/wb-ib-technology-wiki/_wiki/wikis/wb-ib-technology-wiki.wiki/298/Orchestration-Scripts-and-Pipelines?anchor=**creating-the-pipeline-function**"
      ]
    },
    {
      "cell_type": "code",
      "execution_count": null,
      "metadata": {},
      "outputs": [],
      "source": [
        "#pipeline Create Example\n",
        "https://dev.azure.com/WB-IB/wb-ib-technology-wiki/_wiki/wikis/wb-ib-technology-wiki.wiki/298/Orchestration-Scripts-and-Pipelines?anchor=**creating-the-pipeline-function**"
      ]
    },
    {
      "cell_type": "code",
      "execution_count": null,
      "metadata": {},
      "outputs": [],
      "source": [
        "#Inference Create Build Example\n",
        "https://dev.azure.com/WB-IB/wb-ib-technology-wiki/_wiki/wikis/wb-ib-technology-wiki.wiki/298/Orchestration-Scripts-and-Pipelines?anchor=**creating-the-pipeline-function**"
      ]
    },
    {
      "cell_type": "code",
      "execution_count": null,
      "metadata": {},
      "outputs": [],
      "source": [
        "ml_client.create_or_update(inference_pipeline, experiment_name=\"pipeline_testing\")"
      ]
    }
  ],
  "metadata": {
    "kernel_info": {
      "name": "wb-ib-ds-basic-cpu"
    },
    "kernelspec": {
      "display_name": "wb-ib-ds-basic-cpu",
      "language": "python",
      "name": "wb-ib-ds-basic-cpu"
    },
    "language_info": {
      "codemirror_mode": {
        "name": "ipython",
        "version": 3
      },
      "file_extension": ".py",
      "mimetype": "text/x-python",
      "name": "python",
      "nbconvert_exporter": "python",
      "pygments_lexer": "ipython3",
      "version": "3.10.8"
    },
    "microsoft": {
      "host": {
        "AzureML": {
          "notebookHasBeenCompleted": true
        }
      }
    },
    "nteract": {
      "version": "nteract-front-end@1.0.0"
    },
    "orig_nbformat": 4
  },
  "nbformat": 4,
  "nbformat_minor": 2
}

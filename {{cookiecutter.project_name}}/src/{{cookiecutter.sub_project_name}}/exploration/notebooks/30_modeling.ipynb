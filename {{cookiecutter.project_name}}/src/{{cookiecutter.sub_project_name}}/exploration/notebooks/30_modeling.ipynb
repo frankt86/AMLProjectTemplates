{
 "cells": [
  {
   "attachments": {},
   "cell_type": "markdown",
   "metadata": {},
   "source": [
    "# Library Imports"
   ]
  },
  {
   "cell_type": "code",
   "execution_count": null,
   "metadata": {},
   "outputs": [],
   "source": [
    "import os\n",
    "import json\n",
    "import sys\n",
    "\n",
    "from azure.ai.ml import MLClient, Input, command\n",
    "\n",
    "sys.path.append(os.path.abspath('/'.join(str.split(os.getcwd(), '/')[:9]) + '/code/'))\n",
    "from Projects.Utils.src.adls_interaction import adls_mount, get_client_credential"
   ]
  },
  {
   "attachments": {},
   "cell_type": "markdown",
   "metadata": {},
   "source": [
    "# Workspace Credentials"
   ]
  },
  {
   "cell_type": "code",
   "execution_count": null,
   "metadata": {},
   "outputs": [],
   "source": [
    "with open('/'.join(str.split(os.getcwd(), '/')[:9]) + '/code/Projects/Utils/src/Config/aml_env_vars.json', 'r') as f:\n",
    "    env_vars = json.load(f)\n",
    "\n",
    "# subscription\n",
    "SUBSCRIPTION_ID = env_vars[\"subscription_id\"]\n",
    "RESOURCE_GROUP = env_vars[\"resource_group\"]\n",
    "WORKSPACE_NAME = env_vars[\"workspace_name\"]\n",
    "client_credential = get_client_credential()"
   ]
  },
  {
   "cell_type": "code",
   "execution_count": null,
   "metadata": {},
   "outputs": [],
   "source": [
    "# Get a handle to the workspace\n",
    "ml_client = MLClient(\n",
    "    credential=client_credential,\n",
    "    subscription_id=SUBSCRIPTION_ID,\n",
    "    resource_group_name=RESOURCE_GROUP,\n",
    "    workspace_name=WORKSPACE_NAME,\n",
    ")\n",
    "\n",
    "ml_client"
   ]
  },
  {
   "attachments": {},
   "cell_type": "markdown",
   "metadata": {},
   "source": [
    "# Modeling Job"
   ]
  },
  {
   "cell_type": "code",
   "execution_count": null,
   "metadata": {},
   "outputs": [],
   "source": [
    "# command parameters\n",
    "DATASTORE_PATH = \"azureml://datastores/ds_ib_datalake/paths/temp/test_data/pb_industry_sector_classification/sector/\"\n",
    "CPU_CLUSTER = \"ADVTECH-SM-CPU-CLU\"\n",
    "ENV_NAME = \"wb-ib-ds-basic-cpu:4\""
   ]
  },
  {
   "cell_type": "code",
   "execution_count": null,
   "metadata": {},
   "outputs": [],
   "source": [
    "#  Regular Component Command Example\n",
    "https://dev.azure.com/WB-IB/wb-ib-technology-wiki/_wiki/wikis/wb-ib-technology-wiki.wiki/298/Orchestration-Scripts-and-Pipelines?anchor=**creating-a-component-command-for-a-pipeline**"
   ]
  },
  {
   "cell_type": "code",
   "execution_count": null,
   "metadata": {},
   "outputs": [],
   "source": [
    "ml_client.jobs.create_or_update(job)"
   ]
  }
 ],
 "metadata": {
  "kernelspec": {
   "display_name": "base",
   "language": "python",
   "name": "python3"
  },
  "language_info": {
   "name": "python",
   "version": "3.9.13"
  },
  "orig_nbformat": 4,
  "vscode": {
   "interpreter": {
    "hash": "f7968015f8aa701a7382f1529e22601034c5c18fcd72dc441111cd4c418766ab"
   }
  }
 },
 "nbformat": 4,
 "nbformat_minor": 2
}

{
  "cells": [
    {
      "cell_type": "code",
      "execution_count": 7,
      "id": "3dcb2069-844a-459c-bcde-25dea15f8133",
      "metadata": {
        "gather": {
          "logged": 1674797067746
        }
      },
      "outputs": [],
      "source": [
        "import os\n",
        "import sys\n",
        "\n",
        "import pandas as pd\n",
        "from deltalake import DeltaTable\n",
        "\n",
        "sys.path.append(os.path.abspath(\"/\".join(os.getcwd().split(\"/\")[:9]) + \"/code/\"))\n",
        "from Projects.Utils.src.adls_interaction import adls_mount, adls_helper"
      ]
    },
    {
      "cell_type": "code",
      "execution_count": 20,
      "id": "2dbe1740-fca6-429e-a4f0-22cfa6de6742",
      "metadata": {
        "gather": {
          "logged": 1674797077778
        }
      },
      "outputs": [
        {
          "name": "stderr",
          "output_type": "stream",
          "text": [
            "Message: Running rslex direct volume mount: RSLEX_DIRECT_VOLUME_MOUNT=None, RSLEX_DIRECT_VOLUME_WRITABLE_MOUNT=None, enable_rslex_mount=None\n",
            "Payload: {\"pid\": 57050, \"source\": \"azureml.dataprep\", \"version\": \"4.8.4\", \"trace\": \"azureml|data|dataset_error_handling.py, line 65 in function _validate_has_data.\\nazureml|data|dataset_factory.py, line 900 in function from_files.\\nazureml|data|_loggerfactory.py, line 132 in function wrapper.\", \"subscription\": \"\", \"run_id\": \"\", \"resource_group\": \"\", \"workspace_name\": \"\", \"experiment_id\": \"\", \"location\": \"\", \"rslex_version\": \"2.15.2\"}\n",
            "Message: Running rslex direct volume mount: RSLEX_DIRECT_VOLUME_MOUNT=None, RSLEX_DIRECT_VOLUME_WRITABLE_MOUNT=None, enable_rslex_mount=None\n",
            "Payload: {\"pid\": 57050, \"source\": \"azureml.dataprep\", \"version\": \"4.8.4\", \"trace\": \"azureml|data|dataset_error_handling.py, line 65 in function _validate_has_data.\\nazureml|data|dataset_factory.py, line 900 in function from_files.\\nazureml|data|_loggerfactory.py, line 132 in function wrapper.\", \"subscription\": \"\", \"run_id\": \"\", \"resource_group\": \"\", \"workspace_name\": \"\", \"experiment_id\": \"\", \"location\": \"\", \"rslex_version\": \"2.15.2\"}\n"
          ]
        }
      ],
      "source": [
        "# data paths\n",
        "stg_root = \"Enter Path Here\" # i.e. \"/stage/ib/pitchbook/prod/current/\"\n",
        "data_store = \"Enter Name Here\" # i.e. \"ds_ib_datalake_prod\"\n",
        "\n",
        "# mount paths and contexts\n",
        "prod_mnt_context_object, prod_mnt_path_object = adls_mount(path_datastore=stg_root + \"Object\", datastore_name=data_store)"
      ]
    },
    {
      "cell_type": "markdown",
      "id": "0a1527a1-e8f6-4734-9f7e-0f449d37fd6a",
      "metadata": {},
      "source": [
        "## Reading in Data"
      ]
    },
    {
      "cell_type": "code",
      "execution_count": 21,
      "id": "c56fc8d6-ac0b-48bb-af36-0dead5c32bce",
      "metadata": {
        "gather": {
          "logged": 1674797082808
        }
      },
      "outputs": [
        {
          "name": "stdout",
          "output_type": "stream",
          "text": [
            "Number of pb companies loaded: 115,610\n",
            "Number of sf accounts loaded:  209,766\n"
          ]
        }
      ],
      "source": [
        "# columns to read\n",
        "cols = [\"col1\", \"col2\", \"col3\"]\n",
        "\n",
        "\n",
        "df_object = DeltaTable(prod_mnt_path_object + \"Object_Name\").to_pandas(columns=cols)\n",
        "\n",
        "print(f\"Object Records: {df_object.shape[0]:,}\")"
      ]
    },
    {
      "cell_type": "code",
      "execution_count": null,
      "id": "ab876059",
      "metadata": {},
      "outputs": [],
      "source": [
        "\"\"\"\n",
        "Dataframe Manipulation goes here\n",
        "\"\"\""
      ]
    },
    {
      "cell_type": "code",
      "execution_count": 25,
      "id": "45ddcfb8",
      "metadata": {},
      "outputs": [],
      "source": [
        "adls_helper_obj, service_client = adls_helper()\n",
        "\n",
        "adls_helper_obj.upload_data(\n",
        "    content=df_object.to_csv(index=False),\n",
        "    file_name=\"processed_data.csv\",\n",
        "    dir_path=temp_explore_root,\n",
        "    file_system_name=\"wbc-root\",\n",
        "    service_client=service_client,\n",
        "    overwrite=True)"
      ]
    },
    {
      "cell_type": "markdown",
      "id": "d4731e38-7a14-42cd-b712-fb1155f8719d",
      "metadata": {
        "nteract": {
          "transient": {
            "deleting": false
          }
        }
      },
      "source": [
        "## "
      ]
    }
  ],
  "metadata": {
    "kernel_info": {
      "name": "python3"
    },
    "kernelspec": {
      "display_name": "base",
      "language": "python",
      "name": "python3"
    },
    "language_info": {
      "name": "python",
      "version": "3.9.13"
    },
    "microsoft": {
      "host": {
        "AzureML": {
          "notebookHasBeenCompleted": true
        }
      }
    },
    "nteract": {
      "version": "nteract-front-end@1.0.0"
    },
    "vscode": {
      "interpreter": {
        "hash": "f7968015f8aa701a7382f1529e22601034c5c18fcd72dc441111cd4c418766ab"
      }
    }
  },
  "nbformat": 4,
  "nbformat_minor": 5
}

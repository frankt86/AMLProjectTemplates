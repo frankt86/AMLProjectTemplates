{
 "cells": [
  {
   "cell_type": "code",
   "execution_count": null,
   "metadata": {},
   "outputs": [],
   "source": [
    "import os\n",
    "import sys\n",
    "\n",
    "import pandas as pd\n",
    "from deltalake import DeltaTable\n",
    "\n",
    "sys.path.append(os.path.abspath(\"/\".join(os.getcwd().split(\"/\")[:9]) + \"/code/\"))\n",
    "from Projects.Utils.src.adls_interaction import adls_mount, adls_helper"
   ]
  },
  {
   "cell_type": "code",
   "execution_count": null,
   "metadata": {},
   "outputs": [],
   "source": [
    "# data paths\n",
    "stg_root = \"Enter Path Here\" # i.e. \"/stage/ib/pitchbook/prod/current/\"\n",
    "data_store = \"Enter Name Here\" # i.e. \"ds_ib_datalake_prod\"\n",
    "\n",
    "# mount paths and contexts\n",
    "prod_mnt_context_object, prod_mnt_path_object = adls_mount(path_datastore=stg_root + \"Object\", datastore_name=data_store)"
   ]
  },
  {
   "attachments": {},
   "cell_type": "markdown",
   "metadata": {},
   "source": [
    "## Reading in Data"
   ]
  },
  {
   "cell_type": "code",
   "execution_count": null,
   "metadata": {},
   "outputs": [],
   "source": [
    "# columns to read\n",
    "cols = [\"col1\", \"col2\", \"col3\"]\n",
    "\n",
    "df_object = DeltaTable(prod_mnt_path_object + \"Object_Name\").to_pandas(columns=cols)\n",
    "\n",
    "print(f\"Object Records: {df_object.shape[0]:,}\")"
   ]
  },
  {
   "cell_type": "code",
   "execution_count": null,
   "metadata": {},
   "outputs": [],
   "source": [
    "\"\"\"\n",
    "Dataframe Manipulation goes here\n",
    "\"\"\""
   ]
  },
  {
   "cell_type": "code",
   "execution_count": null,
   "metadata": {},
   "outputs": [],
   "source": [
    "adls_helper_obj, service_client = adls_helper()\n",
    "\n",
    "adls_helper_obj.upload_data(\n",
    "    content=df_object.to_csv(index=False),\n",
    "    file_name=\"processed_data.csv\",\n",
    "    dir_path=temp_explore_root,\n",
    "    file_system_name=\"wbc-root\",\n",
    "    service_client=service_client,\n",
    "    overwrite=True)"
   ]
  }
 ],
 "metadata": {
  "kernelspec": {
   "display_name": "base",
   "language": "python",
   "name": "python3"
  },
  "language_info": {
   "name": "python",
   "version": "3.9.13"
  },
  "orig_nbformat": 4,
  "vscode": {
   "interpreter": {
    "hash": "f7968015f8aa701a7382f1529e22601034c5c18fcd72dc441111cd4c418766ab"
   }
  }
 },
 "nbformat": 4,
 "nbformat_minor": 2
}

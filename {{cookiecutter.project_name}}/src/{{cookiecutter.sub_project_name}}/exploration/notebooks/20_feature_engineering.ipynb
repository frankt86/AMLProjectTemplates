{
 "cells": [
  {
   "cell_type": "code",
   "execution_count": null,
   "metadata": {},
   "outputs": [],
   "source": [
    "import os\n",
    "import json\n",
    "import sys\n",
    "\n",
    "\n",
    "sys.path.append(os.path.abspath('/'.join(str.split(os.getcwd(), '/')[:9]) + '/code/'))\n",
    "from Projects.Utils.src.adls_interaction import get_client_credential, adls_mount"
   ]
  },
  {
   "cell_type": "code",
   "execution_count": null,
   "metadata": {},
   "outputs": [],
   "source": [
    "with open('/'.join(str.split(os.getcwd(), '/')[:9]) + '/code/Projects/Utils/src/Config/aml_env_vars.json', 'r') as f:\n",
    "    env_vars = json.load(f)\n",
    "\n",
    "# subscription\n",
    "SUBSCRIPTION_ID = env_vars[\"subscription_id\"]\n",
    "RESOURCE_GROUP = env_vars[\"resource_group\"]\n",
    "WORKSPACE_NAME = env_vars[\"workspace_name\"]\n",
    "client_credential = get_client_credential()"
   ]
  },
  {
   "cell_type": "code",
   "execution_count": null,
   "metadata": {},
   "outputs": [],
   "source": [
    "# Get a handle to the workspace\n",
    "ml_client = MLClient(\n",
    "    credential=client_credential,\n",
    "    subscription_id=SUBSCRIPTION_ID,\n",
    "    resource_group_name=RESOURCE_GROUP,\n",
    "    workspace_name=WORKSPACE_NAME,\n",
    ")\n",
    "\n",
    "ml_client"
   ]
  },
  {
   "attachments": {},
   "cell_type": "markdown",
   "metadata": {},
   "source": [
    "#### Feature Engineering Job"
   ]
  },
  {
   "cell_type": "code",
   "execution_count": null,
   "metadata": {},
   "outputs": [],
   "source": [
    "# command parameters\n",
    "DATASTORE_PATH = \"azureml://datastores/ds_ib_datalake/paths/temp/test_data/pb_industry_sector_classification/sector/\"\n",
    "CPU_CLUSTER = \"ADVTECH-SM-CPU-CLU\"\n",
    "ENV_NAME = \"wb-ib-ds-basic-cpu:4\""
   ]
  },
  {
   "cell_type": "code",
   "execution_count": null,
   "metadata": {},
   "outputs": [],
   "source": []
  },
  {
   "cell_type": "code",
   "execution_count": null,
   "metadata": {},
   "outputs": [],
   "source": [
    "ml_client.jobs.create_or_update(job)"
   ]
  }
 ],
 "metadata": {
  "language_info": {
   "name": "python"
  },
  "orig_nbformat": 4
 },
 "nbformat": 4,
 "nbformat_minor": 2
}

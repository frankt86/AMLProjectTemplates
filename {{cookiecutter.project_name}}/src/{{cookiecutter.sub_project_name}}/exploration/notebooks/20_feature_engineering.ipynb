{
  "cells": [
    {
      "attachments": {},
      "cell_type": "markdown",
      "metadata": {},
      "source": [
        "This notebook used to submit jobs to compute cluster."
      ]
    },
    {
      "cell_type": "code",
      "execution_count": 1,
      "metadata": {
        "gather": {
          "logged": 1676600032486
        }
      },
      "outputs": [],
      "source": [
        "import os\n",
        "import json\n",
        "import sys\n",
        "\n",
        "from azure.ai.ml import MLClient, Input, command\n",
        "\n",
        "sys.path.append(os.path.abspath('/'.join(str.split(os.getcwd(), '/')[:9]) + '/code/'))\n",
        "from Projects.Utils.src.adls_interaction import get_client_credential, adls_mount"
      ]
    },
    {
      "cell_type": "code",
      "execution_count": 2,
      "metadata": {},
      "outputs": [
        {
          "name": "stderr",
          "output_type": "stream",
          "text": [
            "Message: Running rslex direct volume mount: RSLEX_DIRECT_VOLUME_MOUNT=None, RSLEX_DIRECT_VOLUME_WRITABLE_MOUNT=None, enable_rslex_mount=None\n",
            "Payload: {\"pid\": 98952, \"source\": \"azureml.dataprep\", \"version\": \"4.8.4\", \"trace\": \"azureml|data|dataset_error_handling.py, line 65 in function _validate_has_data.\\nazureml|data|dataset_factory.py, line 900 in function from_files.\\nazureml|data|_loggerfactory.py, line 132 in function wrapper.\", \"subscription\": \"\", \"run_id\": \"\", \"resource_group\": \"\", \"workspace_name\": \"\", \"experiment_id\": \"\", \"location\": \"\", \"rslex_version\": \"2.15.2\"}\n"
          ]
        }
      ],
      "source": [
        "# data paths\n",
        "temp_explore_root = \"/temp/test_data/pb_industry_sector_classification/sector/\"\n",
        "\n",
        "# mount paths and contexts\n",
        "dev_mnt_context_proj_files, dev_mnt_path_proj_files = adls_mount(path_datastore=temp_explore_root, datastore_name=\"ds_ib_datalake\")"
      ]
    },
    {
      "attachments": {},
      "cell_type": "markdown",
      "metadata": {},
      "source": [
        "## Preparing Job"
      ]
    },
    {
      "cell_type": "code",
      "execution_count": 2,
      "metadata": {
        "gather": {
          "logged": 1676600040645
        },
        "jupyter": {
          "outputs_hidden": false,
          "source_hidden": false
        },
        "nteract": {
          "transient": {
            "deleting": false
          }
        }
      },
      "outputs": [],
      "source": [
        "with open('/'.join(str.split(os.getcwd(), '/')[:9]) + '/code/Projects/Utils/src/Config/aml_env_vars.json', 'r') as f:\n",
        "    env_vars = json.load(f)\n",
        "\n",
        "# subscription\n",
        "SUBSCRIPTION_ID = env_vars[\"subscription_id\"]\n",
        "RESOURCE_GROUP = env_vars[\"resource_group\"]\n",
        "WORKSPACE_NAME = env_vars[\"workspace_name\"]\n",
        "client_credential = get_client_credential()"
      ]
    },
    {
      "cell_type": "code",
      "execution_count": 3,
      "metadata": {
        "gather": {
          "logged": 1676600041660
        },
        "jupyter": {
          "outputs_hidden": false,
          "source_hidden": false
        },
        "nteract": {
          "transient": {
            "deleting": false
          }
        }
      },
      "outputs": [
        {
          "data": {
            "text/plain": [
              "MLClient(credential=<azure.identity._credentials.client_secret.ClientSecretCredential object at 0x7ffa8a037f40>,\n",
              "         subscription_id=7b57f424-d885-4a8f-b990-263588145d9c,\n",
              "         resource_group_name=WBIBADVTECH-DEV-RG,\n",
              "         workspace_name=WB-IBADVTECH-DEV-MLSW)"
            ]
          },
          "execution_count": 3,
          "metadata": {},
          "output_type": "execute_result"
        }
      ],
      "source": [
        "# Get a handle to the workspace\n",
        "ml_client = MLClient(\n",
        "    credential=client_credential,\n",
        "    subscription_id=SUBSCRIPTION_ID,\n",
        "    resource_group_name=RESOURCE_GROUP,\n",
        "    workspace_name=WORKSPACE_NAME,\n",
        ")\n",
        "\n",
        "ml_client"
      ]
    },
    {
      "cell_type": "markdown",
      "metadata": {
        "nteract": {
          "transient": {
            "deleting": false
          }
        }
      },
      "source": [
        "## Embedding Model Jobs"
      ]
    },
    {
      "cell_type": "code",
      "execution_count": 10,
      "metadata": {
        "gather": {
          "logged": 1676600403872
        },
        "jupyter": {
          "outputs_hidden": false,
          "source_hidden": false
        },
        "nteract": {
          "transient": {
            "deleting": false
          }
        }
      },
      "outputs": [],
      "source": [
        "# command parameters\n",
        "DATASTORE_PATH = \"azureml://datastores/ds_ib_datalake/paths/temp/test_data/pb_industry_sector_classification/sector/\"\n",
        "CPU_CLUSTER = \"ADVTECH-SM-CPU-CLU\"\n",
        "ENV_NAME = \"wb-ib-ds-basic-cpu:4\"\n"
      ]
    },
    {
      "cell_type": "code",
      "execution_count": 11,
      "metadata": {
        "gather": {
          "logged": 1676600409712
        },
        "jupyter": {
          "outputs_hidden": false,
          "source_hidden": false
        },
        "nteract": {
          "transient": {
            "deleting": false
          }
        }
      },
      "outputs": [
        {
          "name": "stderr",
          "output_type": "stream",
          "text": [
            "\u001b[32mUploading feature_engineering.py\u001b[32m (< 1 MB): 100%|███████████████████████████████████████████████████████████████████████████████████████████████████████████████████████████████████████████████████████████████████████████████████████████████████████████████████████████████████████████████████████████████████████████████████████████████████████████████████████████████████████████████████████████████████████████████████████████████████████████████████████████████████████████████████████████████████████████████████████████████████████████████████████████████████████████████████████████████████████████████████████████████████████████████████████████████████████████████████████████████████████████████████████████████████████████████████████████████████████████████████████████████████████████████████████████████████████████████████████████████████████████████████████████████████████████████████████████████████████████████████████████████████████████████████| 1.70k/1.70k [00:00<00:00, 121kB/s]\u001b[0m\n",
            "\u001b[39m\n",
            "\n"
          ]
        },
        {
          "data": {
            "text/html": [
              "<table style=\"width:100%\"><tr><th>Experiment</th><th>Name</th><th>Type</th><th>Status</th><th>Details Page</th></tr><tr><td>PBIndustrySectorClassification_SectorClassification</td><td>orange_comb_6h5gtr9m73</td><td>command</td><td>Starting</td><td><a href=\"https://ml.azure.com/runs/orange_comb_6h5gtr9m73?wsid=/subscriptions/7b57f424-d885-4a8f-b990-263588145d9c/resourcegroups/WBIBADVTECH-DEV-RG/workspaces/WB-IBADVTECH-DEV-MLSW&amp;tid=7ebf3a40-0f86-495e-98d7-20b5bad7d2ac\" target=\"_blank\" rel=\"noopener\">Link to Azure Machine Learning studio</a></td></tr></table>"
            ],
            "text/plain": [
              "Command({'parameters': {}, 'init': False, 'type': 'command', 'status': 'Starting', 'log_files': None, 'name': 'orange_comb_6h5gtr9m73', 'description': None, 'tags': {}, 'properties': {'mlflow.source.git.repoURL': 'git@ssh.dev.azure.com:v3/WB-IB/wb-ib-advanced-technology/aml-projects-pb-industry-sector-classification', 'mlflow.source.git.branch': 'dev', 'mlflow.source.git.commit': '007602f4f15c85a071961d43c47444ede0cb4ee0', 'azureml.git.dirty': 'True', '_azureml.ComputeTargetType': 'amlctrain', 'ContentSnapshotId': '44217e56-aaa0-4c49-b658-c2d496374763'}, 'print_as_yaml': True, 'id': '/subscriptions/7b57f424-d885-4a8f-b990-263588145d9c/resourceGroups/WBIBADVTECH-DEV-RG/providers/Microsoft.MachineLearningServices/workspaces/WB-IBADVTECH-DEV-MLSW/jobs/orange_comb_6h5gtr9m73', 'Resource__source_path': None, 'base_path': '/mnt/batch/tasks/shared/LS_root/mounts/clusters/igrabauskas/code/Projects/PBIndustrySectorClassification/src/SectorClassification/exploration/notebooks', 'creation_context': <azure.ai.ml.entities._system_data.SystemData object at 0x7ffa6bd37dc0>, 'serialize': <msrest.serialization.Serializer object at 0x7ffa6b2a1d50>, 'allowed_keys': {}, 'key_restriction': False, 'logger': <Logger attr_dict (WARNING)>, 'display_name': 'feature_engineering_job', 'experiment_name': 'PBIndustrySectorClassification_SectorClassification', 'compute': 'ADVTECH-SM-CPU-CLU', 'services': {'Tracking': <azure.ai.ml.entities._job.job_service.JobService object at 0x7ffa6b0f0760>, 'Studio': <azure.ai.ml.entities._job.job_service.JobService object at 0x7ffa6bd37f10>}, 'comment': None, 'job_inputs': {'datastore_path': {'type': 'uri_folder', 'path': 'azureml://datastores/ds_ib_datalake/paths/temp/test_data/pb_industry_sector_classification/sector/', 'mode': 'ro_mount'}, 'id_col': 'Id'}, 'job_outputs': {'default': {'type': 'uri_folder', 'path': 'azureml://datastores/workspaceartifactstore/ExperimentRun/dcid.orange_comb_6h5gtr9m73', 'mode': 'rw_mount'}}, 'inputs': {'datastore_path': <azure.ai.ml.entities._job.pipeline._io.base.NodeInput object at 0x7ffa6b2a1660>, 'id_col': <azure.ai.ml.entities._job.pipeline._io.base.NodeInput object at 0x7ffa6b2a04f0>}, 'outputs': {'default': <azure.ai.ml.entities._job.pipeline._io.base.NodeOutput object at 0x7ffa6b2a2020>}, 'component': CommandComponent({'auto_increment_version': True, 'source': 'REMOTE.WORKSPACE.JOB', 'is_anonymous': False, 'name': 'orange_comb_6h5gtr9m73', 'description': None, 'tags': {}, 'properties': {}, 'print_as_yaml': True, 'id': None, 'Resource__source_path': None, 'base_path': PosixPath('.'), 'creation_context': <azure.ai.ml.entities._system_data.SystemData object at 0x7ffa6bd37dc0>, 'serialize': <msrest.serialization.Serializer object at 0x7ffa6b2a0a60>, 'command': 'python feature_engineering.py             --datastore_path ${{inputs.datastore_path}}             --id_col ${{inputs.id_col}}             ', 'code': '/subscriptions/7b57f424-d885-4a8f-b990-263588145d9c/resourceGroups/WBIBADVTECH-DEV-RG/providers/Microsoft.MachineLearningServices/workspaces/WB-IBADVTECH-DEV-MLSW/codes/b1fe3085-3366-43a9-9854-afaa63992417/versions/1', 'environment_variables': {}, 'environment': '/subscriptions/7b57f424-d885-4a8f-b990-263588145d9c/resourceGroups/WBIBADVTECH-DEV-RG/providers/Microsoft.MachineLearningServices/workspaces/WB-IBADVTECH-DEV-MLSW/environments/wb-ib-ds-basic-cpu/versions/4', 'distribution': None, 'resources': None, 'version': None, 'latest_version': None, 'schema': None, 'type': 'command', 'display_name': 'feature_engineering_job', 'is_deterministic': True, 'inputs': {'datastore_path': {'type': 'uri_folder', 'path': 'azureml://datastores/ds_ib_datalake/paths/temp/test_data/pb_industry_sector_classification/sector/', 'mode': 'ro_mount'}, 'id_col': {'type': 'string', 'default': 'Id'}}, 'outputs': {'default': {'type': 'uri_folder', 'path': 'azureml://datastores/workspaceartifactstore/ExperimentRun/dcid.orange_comb_6h5gtr9m73', 'mode': 'rw_mount'}}, 'yaml_str': None, 'other_parameter': {'status': 'Starting', 'parameters': {}}}), 'referenced_control_flow_node_instance_id': None, 'kwargs': {'services': {'Tracking': <azure.ai.ml.entities._job.job_service.JobService object at 0x7ffa6b0f0760>, 'Studio': <azure.ai.ml.entities._job.job_service.JobService object at 0x7ffa6bd37f10>}, 'status': 'Starting', 'creation_context': <azure.ai.ml.entities._system_data.SystemData object at 0x7ffa6bd37dc0>}, 'instance_id': 'd56a5fda-9b32-478c-b087-fabbc79461c2', 'source': 'BUILDER', 'validate_required_input_not_provided': True, 'limits': None, 'identity': None, 'distribution': None, 'environment_variables': {}, 'environment': 'wb-ib-ds-basic-cpu:4', 'resources': {'instance_count': 1, 'shm_size': '2g'}, 'swept': False})"
            ]
          },
          "execution_count": 11,
          "metadata": {},
          "output_type": "execute_result"
        }
      ],
      "source": [
        "ml_client.jobs.create_or_update(job)"
      ]
    }
  ],
  "metadata": {
    "kernel_info": {
      "name": "wb-ib-ds-basic-cpu"
    },
    "kernelspec": {
      "display_name": "wb-ib-ds-basic-cpu",
      "language": "python",
      "name": "python3"
    },
    "language_info": {
      "codemirror_mode": {
        "name": "ipython",
        "version": 3
      },
      "file_extension": ".py",
      "mimetype": "text/x-python",
      "name": "python",
      "nbconvert_exporter": "python",
      "pygments_lexer": "ipython3",
      "version": "3.10.8"
    },
    "microsoft": {
      "host": {
        "AzureML": {
          "notebookHasBeenCompleted": true
        }
      },
      "ms_spell_check": {
        "ms_spell_check_language": "en"
      }
    },
    "nteract": {
      "version": "nteract-front-end@1.0.0"
    },
    "vscode": {
      "interpreter": {
        "hash": "e265ac61eae8ec20b8c3fb95696eaeb6e64e17b5a161ad63b1f83ed87dca1dff"
      }
    }
  },
  "nbformat": 4,
  "nbformat_minor": 2
}
